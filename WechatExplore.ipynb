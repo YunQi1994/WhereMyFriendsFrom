{
 "cells": [
  {
   "cell_type": "markdown",
   "metadata": {},
   "source": [
    "# Get distribution of my Wechat friends\n",
    "\n",
    "### a simple way to access, process data and visulise with Wechat\n",
    "### working with friendly libs: pandas, numpy, itchat and pyecharts"
   ]
  },
  {
   "cell_type": "code",
<<<<<<< HEAD
   "execution_count": 1,
   "metadata": {},
   "outputs": [
    {
     "name": "stdout",
     "output_type": "stream",
     "text": [
      "█\r"
     ]
    }
   ],
=======
   "execution_count": 17,
   "metadata": {},
   "outputs": [],
>>>>>>> c43e0b998c6b42d437af30e608b946d6a1e380c2
   "source": [
    "import pandas as pd\n",
    "import numpy as np\n",
    "import itchat"
   ]
  },
  {
   "cell_type": "code",
<<<<<<< HEAD
   "execution_count": 2,
=======
   "execution_count": 18,
>>>>>>> c43e0b998c6b42d437af30e608b946d6a1e380c2
   "metadata": {},
   "outputs": [
    {
     "name": "stderr",
     "output_type": "stream",
     "text": [
      "Getting uuid of QR code.\n",
      "Downloading QR code.\n",
      "Please scan the QR code to log in.\n",
      "Please press confirm on your phone.\n",
      "Loading the contact, this may take a little while.\n",
      "Login successfully as Joseph\n"
     ]
    }
   ],
   "source": [
    "# scan QR code to login\n",
    "\n",
    "itchat.auto_login()\n"
   ]
  },
  {
   "cell_type": "code",
   "execution_count": 3,
   "metadata": {},
   "outputs": [
    {
     "data": {
      "text/plain": [
<<<<<<< HEAD
       "<ItchatReturnValue: {'BaseResponse': {'Ret': 0, 'ErrMsg': '请求成功', 'RawMsg': '请求成功'}, 'MsgID': '914521136750165614', 'LocalID': '15594799286335'}>"
=======
       "<ItchatReturnValue: {'BaseResponse': {'Ret': 0, 'ErrMsg': '请求成功', 'RawMsg': '请求成功'}, 'MsgID': '7340140502824224009', 'LocalID': '15494558709072'}>"
>>>>>>> c43e0b998c6b42d437af30e608b946d6a1e380c2
      ]
     },
     "execution_count": 3,
     "metadata": {},
     "output_type": "execute_result"
    }
   ],
   "source": [
    "# test connnection, send a message to filehelper\n",
    "itchat.send('hello', toUserName='filehelper')"
   ]
  },
  {
   "cell_type": "code",
   "execution_count": 4,
   "metadata": {},
   "outputs": [],
   "source": [
    "# a easy method to send msg to anyone of your friend\n",
    "def sendmsg(昵称,信息内容):\n",
    "    users = itchat.search_friends(name = 昵称)\n",
    "    if len(users) > 0:\n",
    "        username = users[0]['UserName']\n",
    "        itchat.send(信息内容, toUserName = username)\n",
    "    else: print(\"no such user\")"
   ]
  },
  {
   "cell_type": "markdown",
   "metadata": {},
   "source": [
    "\n"
   ]
  },
  {
   "cell_type": "markdown",
   "metadata": {},
   "source": [
    "## 1. get my friends data \n",
    "### get_friends() return a dict that contains many useful information: NickName,Signiture,City..."
   ]
  },
  {
   "cell_type": "code",
   "execution_count": 5,
   "metadata": {},
   "outputs": [],
   "source": [
    "my_friend = itchat.get_friends()"
   ]
  },
  {
   "cell_type": "code",
   "execution_count": 6,
   "metadata": {},
   "outputs": [
    {
     "name": "stdout",
     "output_type": "stream",
     "text": [
<<<<<<< HEAD
      "{'MemberList': <ContactList: []>, 'UserName': '@487f91b544d395338cbbf47a957799f4', 'City': '邯郸', 'DisplayName': '', 'PYQuanPin': 'Joseph', 'RemarkPYInitial': '', 'Province': '河北', 'KeyWord': 'Jos', 'RemarkName': '', 'PYInitial': 'JOSEPH', 'EncryChatRoomId': '', 'Alias': '', 'Signature': '师夷长技以制夷', 'NickName': 'Joseph', 'RemarkPYQuanPin': '', 'HeadImgUrl': '/cgi-bin/mmwebwx-bin/webwxgeticon?seq=621072500&username=@487f91b544d395338cbbf47a957799f4&skey=@crypt_1bafeac7_1475cf4198cd6e74f2f38e7511a264b0', 'UniFriend': 0, 'Sex': 1, 'AppAccountFlag': 0, 'VerifyFlag': 0, 'ChatRoomId': 0, 'HideInputBarFlag': 0, 'AttrStatus': 71719, 'SnsFlag': 49, 'MemberCount': 0, 'OwnerUin': 0, 'ContactFlag': 7, 'Uin': 1139851040, 'StarFriend': 0, 'Statues': 0, 'WebWxPluginSwitch': 0, 'HeadImgFlag': 1, 'IsOwner': 0}\n"
=======
      "{'MemberList': <ContactList: []>, 'UserName': '@b3c3cd3c007cd1ed674b6c9c9d2f1c00', 'City': '邯郸', 'DisplayName': '', 'PYQuanPin': 'Joseph', 'RemarkPYInitial': '', 'Province': '河北', 'KeyWord': 'Jos', 'RemarkName': '', 'PYInitial': 'JOSEPH', 'EncryChatRoomId': '', 'Alias': '', 'Signature': '师夷长技以制夷', 'NickName': 'Joseph', 'RemarkPYQuanPin': '', 'HeadImgUrl': '/cgi-bin/mmwebwx-bin/webwxgeticon?seq=621072500&username=@b3c3cd3c007cd1ed674b6c9c9d2f1c00&skey=@crypt_1bafeac7_cb3d1ba5c2e5174ff1e996554539a2bd', 'UniFriend': 0, 'Sex': 1, 'AppAccountFlag': 0, 'VerifyFlag': 0, 'ChatRoomId': 0, 'HideInputBarFlag': 0, 'AttrStatus': 71719, 'SnsFlag': 49, 'MemberCount': 0, 'OwnerUin': 0, 'ContactFlag': 7, 'Uin': 1139851040, 'StarFriend': 0, 'Statues': 0, 'WebWxPluginSwitch': 0, 'HeadImgFlag': 1, 'IsOwner': 0}\n"
>>>>>>> c43e0b998c6b42d437af30e608b946d6a1e380c2
     ]
    }
   ],
   "source": [
    "print(my_friend[0])"
   ]
  },
  {
   "cell_type": "markdown",
   "metadata": {},
   "source": [
    "## Use my_friend data\n",
    "### the first element is me, sex is 1,so 1 represent male,2 for female, 0 is not specified"
   ]
  },
  {
   "cell_type": "code",
<<<<<<< HEAD
   "execution_count": 22,
=======
   "execution_count": 7,
>>>>>>> c43e0b998c6b42d437af30e608b946d6a1e380c2
   "metadata": {},
   "outputs": [
    {
     "data": {
      "text/plain": [
<<<<<<< HEAD
       "[<User: {'MemberList': <ContactList: []>, 'UserName': '@487f91b544d395338cbbf47a957799f4', 'City': '邯郸', 'DisplayName': '', 'PYQuanPin': 'Joseph', 'RemarkPYInitial': '', 'Province': '河北', 'KeyWord': 'Jos', 'RemarkName': '', 'PYInitial': 'JOSEPH', 'EncryChatRoomId': '', 'Alias': '', 'Signature': '师夷长技以制夷', 'NickName': 'Joseph', 'RemarkPYQuanPin': '', 'HeadImgUrl': '/cgi-bin/mmwebwx-bin/webwxgeticon?seq=621072500&username=@487f91b544d395338cbbf47a957799f4&skey=@crypt_1bafeac7_1475cf4198cd6e74f2f38e7511a264b0', 'UniFriend': 0, 'Sex': 1, 'AppAccountFlag': 0, 'VerifyFlag': 0, 'ChatRoomId': 0, 'HideInputBarFlag': 0, 'AttrStatus': 71719, 'SnsFlag': 49, 'MemberCount': 0, 'OwnerUin': 0, 'ContactFlag': 7, 'Uin': 1139851040, 'StarFriend': 0, 'Statues': 0, 'WebWxPluginSwitch': 0, 'HeadImgFlag': 1, 'IsOwner': 0}>]"
      ]
     },
     "execution_count": 22,
=======
       "[<User: {'MemberList': <ContactList: []>, 'UserName': '@b3c3cd3c007cd1ed674b6c9c9d2f1c00', 'City': '邯郸', 'DisplayName': '', 'PYQuanPin': 'Joseph', 'RemarkPYInitial': '', 'Province': '河北', 'KeyWord': 'Jos', 'RemarkName': '', 'PYInitial': 'JOSEPH', 'EncryChatRoomId': '', 'Alias': '', 'Signature': '师夷长技以制夷', 'NickName': 'Joseph', 'RemarkPYQuanPin': '', 'HeadImgUrl': '/cgi-bin/mmwebwx-bin/webwxgeticon?seq=621072500&username=@b3c3cd3c007cd1ed674b6c9c9d2f1c00&skey=@crypt_1bafeac7_cb3d1ba5c2e5174ff1e996554539a2bd', 'UniFriend': 0, 'Sex': 1, 'AppAccountFlag': 0, 'VerifyFlag': 0, 'ChatRoomId': 0, 'HideInputBarFlag': 0, 'AttrStatus': 71719, 'SnsFlag': 49, 'MemberCount': 0, 'OwnerUin': 0, 'ContactFlag': 7, 'Uin': 1139851040, 'StarFriend': 0, 'Statues': 0, 'WebWxPluginSwitch': 0, 'HeadImgFlag': 1, 'IsOwner': 0}>]"
      ]
     },
     "execution_count": 7,
>>>>>>> c43e0b998c6b42d437af30e608b946d6a1e380c2
     "metadata": {},
     "output_type": "execute_result"
    }
   ],
   "source": [
    "itchat.search_friends(name='Joseph')"
   ]
  },
  {
   "cell_type": "markdown",
   "metadata": {},
   "source": [
    "### extract some data from this dict"
   ]
  },
  {
   "cell_type": "code",
<<<<<<< HEAD
   "execution_count": 23,
=======
   "execution_count": 8,
>>>>>>> c43e0b998c6b42d437af30e608b946d6a1e380c2
   "metadata": {},
   "outputs": [],
   "source": [
    "# extract some data from this dict\n",
    "# 'NickName', 'Province', 'City', 'Signiture', 'sex'\n",
    "mydict = {'NickName':[], 'Province':[], 'City':[], 'Signature':[], 'Sex':[]}\n",
    "for item in my_friend:\n",
    "    mydict['NickName'] = mydict['NickName']+[item['NickName']]\n",
    "    mydict['Province'] = mydict['Province']+[item['Province']]\n",
    "    mydict['City'] = mydict['City']+[item['City']]\n",
    "    mydict['Signature'] = mydict['Signature']+[item['Signature']]\n",
    "    mydict['Sex'] = mydict['Sex']+[item['Sex']]"
   ]
  },
  {
   "cell_type": "code",
<<<<<<< HEAD
   "execution_count": 24,
=======
   "execution_count": 11,
>>>>>>> c43e0b998c6b42d437af30e608b946d6a1e380c2
   "metadata": {},
   "outputs": [],
   "source": [
    "#Trans into a Dataframe with pandas\n",
    "df = pd.DataFrame(mydict)\n",
    "#df.head(10)"
   ]
  },
  {
   "cell_type": "code",
<<<<<<< HEAD
   "execution_count": 25,
=======
   "execution_count": 12,
>>>>>>> c43e0b998c6b42d437af30e608b946d6a1e380c2
   "metadata": {},
   "outputs": [],
   "source": [
    "#manually remove none values\n",
    "df = df[(df['Province'] != '') & (df['City'] != '')]"
   ]
  },
  {
   "cell_type": "markdown",
   "metadata": {},
   "source": [
    "## 2.regions of friends data visualization\n",
    "### In order to visualise region data in China geograpic map, regions out of China should be removed"
   ]
  },
  {
   "cell_type": "code",
<<<<<<< HEAD
   "execution_count": 57,
=======
   "execution_count": 58,
>>>>>>> c43e0b998c6b42d437af30e608b946d6a1e380c2
   "metadata": {},
   "outputs": [],
   "source": [
    "#the library to check if english\n",
<<<<<<< HEAD
    "def isAllZh(s):\n",
    "    '包含汉字的返回TRUE'\n",
    "    for c in s:\n",
    "        if '\\u4e00' <= c <= '\\u9fa5':\n",
    "            return True\n",
    "    return False\n",
    "def get_ch(s):\n",
    "    d = enchant.Dict(\"en_US\")\n",
    "    if isAllZh(s.split(' ')[0]):\n",
    "        return s \n",
=======
    "import enchant\n",
    "def get_ch(s):\n",
    "    d = enchant.Dict(\"en_US\")\n",
    "    if d.check(s.split(' ')[0]) == False:\n",
    "        return s #可替换为yield\n",
>>>>>>> c43e0b998c6b42d437af30e608b946d6a1e380c2
    "#d.check('Hello')"
   ]
  },
  {
   "cell_type": "code",
<<<<<<< HEAD
   "execution_count": null,
   "metadata": {},
   "outputs": [],
   "source": []
=======
   "execution_count": 1,
   "metadata": {},
   "outputs": [],
   "source": [
    "#df.head(10)"
   ]
>>>>>>> c43e0b998c6b42d437af30e608b946d6a1e380c2
  },
  {
   "cell_type": "markdown",
   "metadata": {},
   "source": [
    "### There are some special cities in China, which have districts need to be defined as cities,  to identify which provinces they belong to. Because the the pycharts can not identify these districts."
   ]
  },
  {
   "cell_type": "code",
<<<<<<< HEAD
   "execution_count": 29,
=======
   "execution_count": 133,
>>>>>>> c43e0b998c6b42d437af30e608b946d6a1e380c2
   "metadata": {},
   "outputs": [],
   "source": [
    "天津 = ['和平区','河北区','河东区','河西区','南开区','红桥区','东丽区','西青区','津南区','北辰区','武清区','宝坻区','滨海新区','宁河区','静海区','蓟州区']\n",
    "重庆 = ['万州区','黔江区','涪陵区','渝中区','大渡口区','江北区','沙坪坝区','九龙坡区','南岸区','北碚区','渝北区','巴南区','长寿区','江津区','合川区','永川区','南川区','綦江区','大足区','铜梁区','璧山区']\n",
    "香港 = ['中西区','东区','南区','湾仔区','九龙城区','观塘区','深水埗区','黄大仙区','油尖旺区','离岛区','葵青区','北区','西贡区','沙田区','大埔区','荃湾区','屯门区','元朗区']\n",
    "\n",
    "\n",
    "\n"
   ]
  },
  {
   "cell_type": "markdown",
   "metadata": {},
   "source": [
    "### get city data as a list, and turn districts into cities"
   ]
  },
  {
   "cell_type": "code",
<<<<<<< HEAD
   "execution_count": 30,
=======
   "execution_count": 2,
>>>>>>> c43e0b998c6b42d437af30e608b946d6a1e380c2
   "metadata": {},
   "outputs": [],
   "source": [
    "# trans these districts into cities\n",
    "def to_beijing_shanghai(s):\n",
    "    if s in ['东城','西城','朝阳','丰台','石景山','海淀','门头沟','房山','通州','顺义','昌平','大兴','怀柔','平谷','密云','延庆']:\n",
    "        s = '北京'\n",
    "    if s in ['黄浦','徐汇','长宁','静安','普陀','虹口','杨浦','闵行','宝山','嘉定','浦东','金山','松江','青浦','奉贤','崇明']:\n",
    "        s = '上海'\n",
    "    if s in 重庆 or (s+'区') in 重庆:   \n",
    "        s = '重庆'\n",
    "    if s in 天津 or (s+'区') in 天津:\n",
    "        s = '天津'\n",
    "    if s in 香港:\n",
    "        s = '香港'\n",
    "    return s\n",
    "\n",
    "\n",
    "\n"
   ]
  },
  {
   "cell_type": "code",
<<<<<<< HEAD
   "execution_count": null,
   "metadata": {},
   "outputs": [],
   "source": []
  },
  {
   "cell_type": "code",
   "execution_count": 31,
=======
   "execution_count": 135,
>>>>>>> c43e0b998c6b42d437af30e608b946d6a1e380c2
   "metadata": {},
   "outputs": [],
   "source": [
    "city = list(df['City'])"
   ]
  },
  {
   "cell_type": "code",
<<<<<<< HEAD
   "execution_count": 32,
=======
   "execution_count": 136,
>>>>>>> c43e0b998c6b42d437af30e608b946d6a1e380c2
   "metadata": {},
   "outputs": [],
   "source": [
    "city = [to_beijing_shanghai(x) for x in city]"
   ]
  },
  {
   "cell_type": "code",
<<<<<<< HEAD
   "execution_count": 58,
=======
   "execution_count": 137,
>>>>>>> c43e0b998c6b42d437af30e608b946d6a1e380c2
   "metadata": {},
   "outputs": [],
   "source": [
    "city_ch = [get_ch(x) for x in city]"
   ]
  },
  {
   "cell_type": "code",
<<<<<<< HEAD
   "execution_count": 59,
=======
   "execution_count": 138,
>>>>>>> c43e0b998c6b42d437af30e608b946d6a1e380c2
   "metadata": {},
   "outputs": [],
   "source": [
    "city_ch = list(filter(None,city_ch))"
   ]
  },
  {
   "cell_type": "code",
<<<<<<< HEAD
   "execution_count": null,
   "metadata": {},
   "outputs": [],
   "source": [
    "\n"
   ]
  },
  {
   "cell_type": "code",
   "execution_count": null,
   "metadata": {},
   "outputs": [],
   "source": []
  },
  {
   "cell_type": "code",
   "execution_count": 60,
=======
   "execution_count": 139,
>>>>>>> c43e0b998c6b42d437af30e608b946d6a1e380c2
   "metadata": {},
   "outputs": [],
   "source": [
    "value = [city_ch.count(s) for s in set(city_ch)]\n",
    "attr = list(set(city_ch))"
   ]
  },
  {
   "cell_type": "code",
   "execution_count": null,
   "metadata": {},
   "outputs": [],
   "source": []
  },
  {
   "cell_type": "markdown",
   "metadata": {},
   "source": [
    "## 3. plot a map with pyecharts based on city data"
   ]
  },
  {
   "cell_type": "code",
<<<<<<< HEAD
   "execution_count": 71,
   "metadata": {},
   "outputs": [
    {
     "data": {
      "text/plain": [
       "True"
      ]
     },
     "execution_count": 71,
     "metadata": {},
     "output_type": "execute_result"
    }
   ],
=======
   "execution_count": 146,
   "metadata": {},
   "outputs": [],
>>>>>>> c43e0b998c6b42d437af30e608b946d6a1e380c2
   "source": [
    "#-*- coding:utf-8 -*-\n",
    "from pyecharts import Geo\n",
    "geo = Geo(\"Distribution of My Friends\", \"data from Wehcat\",\n",
    "          title_color=\"#fff\", title_pos=\"center\",\n",
    "          width=1200, height=600, background_color='#404a59')\n",
    "geo.add(\"\", attr, value, visual_range=[0, max(value)],\n",
    "        visual_text_color=\"#fff\", symbol_size=15, is_visualmap=True)\n",
    "#geo.show_config()\n",
<<<<<<< HEAD
    "geo.render(\"my_friend_distribution.html\") #save plot as html in current dirrectory\n",
    "import webbrowser\n",
    "webbrowser.open_new(\"my_friend_distribution.html\")"
=======
    "geo.render(\"my_friend_distribution.html\") #save plot as html in current dirrectory\n"
>>>>>>> c43e0b998c6b42d437af30e608b946d6a1e380c2
   ]
  },
  {
   "cell_type": "code",
<<<<<<< HEAD
   "execution_count": 66,
   "metadata": {},
   "outputs": [
    {
     "data": {
      "text/plain": [
       "True"
      ]
     },
     "execution_count": 66,
     "metadata": {},
     "output_type": "execute_result"
    }
   ],
=======
   "execution_count": null,
   "metadata": {},
   "outputs": [],
>>>>>>> c43e0b998c6b42d437af30e608b946d6a1e380c2
   "source": []
  },
  {
   "cell_type": "code",
   "execution_count": null,
   "metadata": {},
   "outputs": [],
   "source": []
  },
  {
   "cell_type": "markdown",
   "metadata": {},
   "source": [
    "## 4. logout"
   ]
  },
  {
   "cell_type": "code",
   "execution_count": 147,
   "metadata": {},
   "outputs": [
    {
     "name": "stderr",
     "output_type": "stream",
     "text": [
      "LOG OUT!\n",
      "INFO:itchat:LOG OUT!\n"
     ]
    },
    {
     "data": {
      "text/plain": [
       "<ItchatReturnValue: {'BaseResponse': {'ErrMsg': '请求成功', 'Ret': 0, 'RawMsg': 'logout successfully.'}}>"
      ]
     },
     "execution_count": 147,
     "metadata": {},
     "output_type": "execute_result"
    }
   ],
   "source": [
    "itchat.logout()"
   ]
  }
 ],
 "metadata": {
  "kernelspec": {
   "display_name": "Python 3",
   "language": "python",
   "name": "python3"
  },
  "language_info": {
   "codemirror_mode": {
    "name": "ipython",
    "version": 3
   },
   "file_extension": ".py",
   "mimetype": "text/x-python",
   "name": "python",
   "nbconvert_exporter": "python",
   "pygments_lexer": "ipython3",
<<<<<<< HEAD
   "version": "3.7.2"
=======
   "version": "3.7.0"
>>>>>>> c43e0b998c6b42d437af30e608b946d6a1e380c2
  }
 },
 "nbformat": 4,
 "nbformat_minor": 2
}
